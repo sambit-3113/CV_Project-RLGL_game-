{
 "cells": [
  {
   "cell_type": "code",
   "execution_count": 3,
   "metadata": {},
   "outputs": [],
   "source": [
    "from ultralytics import YOLO\n",
    "import cv2\n",
    "import numpy as np"
   ]
  },
  {
   "cell_type": "code",
   "execution_count": 4,
   "metadata": {},
   "outputs": [
    {
     "name": "stdout",
     "output_type": "stream",
     "text": [
      "\n",
      "0: 480x640 1 person, 1 microwave, 210.2ms\n",
      "Speed: 12.5ms preprocess, 210.2ms inference, 0.0ms postprocess per image at shape (1, 3, 480, 640)\n",
      "\n",
      "0: 480x640 1 person, 1 microwave, 228.0ms\n",
      "Speed: 4.3ms preprocess, 228.0ms inference, 0.0ms postprocess per image at shape (1, 3, 480, 640)\n",
      "\n",
      "0: 480x640 1 person, 1 microwave, 181.9ms\n",
      "Speed: 0.0ms preprocess, 181.9ms inference, 0.0ms postprocess per image at shape (1, 3, 480, 640)\n",
      "\n",
      "0: 480x640 1 person, 1 sports ball, 1 microwave, 176.6ms\n",
      "Speed: 0.0ms preprocess, 176.6ms inference, 0.0ms postprocess per image at shape (1, 3, 480, 640)\n",
      "\n",
      "0: 480x640 1 person, 1 microwave, 132.8ms\n",
      "Speed: 0.9ms preprocess, 132.8ms inference, 0.0ms postprocess per image at shape (1, 3, 480, 640)\n",
      "\n",
      "0: 480x640 1 person, 1 microwave, 136.7ms\n",
      "Speed: 0.0ms preprocess, 136.7ms inference, 0.0ms postprocess per image at shape (1, 3, 480, 640)\n",
      "\n",
      "0: 480x640 1 person, 1 microwave, 116.9ms\n",
      "Speed: 0.0ms preprocess, 116.9ms inference, 0.0ms postprocess per image at shape (1, 3, 480, 640)\n",
      "\n",
      "0: 480x640 1 person, 1 microwave, 138.6ms\n",
      "Speed: 1.8ms preprocess, 138.6ms inference, 0.0ms postprocess per image at shape (1, 3, 480, 640)\n",
      "\n",
      "0: 480x640 1 person, 1 microwave, 140.5ms\n",
      "Speed: 1.7ms preprocess, 140.5ms inference, 0.0ms postprocess per image at shape (1, 3, 480, 640)\n",
      "\n",
      "0: 480x640 1 person, 1 microwave, 126.8ms\n",
      "Speed: 1.9ms preprocess, 126.8ms inference, 0.0ms postprocess per image at shape (1, 3, 480, 640)\n"
     ]
    }
   ],
   "source": [
    "\n",
    "model = YOLO('yolov8n.pt')  \n",
    "cap = cv2.VideoCapture(0)\n",
    "\n",
    "\n",
    "if not cap.isOpened():\n",
    "    print(\"Error: Could not open webcam.\")\n",
    "    exit()\n",
    "\n",
    "while True:\n",
    "    \n",
    "    ret, frame = cap.read()\n",
    "    if not ret:\n",
    "        print(\"Error: Could not read frame.\")\n",
    "        break\n",
    "    \n",
    "    results = model(frame)\n",
    "\n",
    "    output_frame = np.zeros_like(frame)\n",
    "    \n",
    "    \n",
    "    for result in results:\n",
    "        for box in result.boxes:\n",
    "            \n",
    "            if box.cls == 0: \n",
    "                x1, y1, x2, y2 = map(int, box.xyxy[0])\n",
    "                confidence = box.conf[0]\n",
    "                \n",
    "                \n",
    "                cv2.rectangle(frame, (x1, y1), (x2, y2), (0, 255, 0), 2)\n",
    "                label = f'Person: {confidence:.2f}'\n",
    "                cv2.putText(frame, label, (x1, y1 - 10), cv2.FONT_HERSHEY_SIMPLEX, 0.5, (0, 255, 0), 2)\n",
    "                \n",
    "                \n",
    "                output_frame[y1:y2, x1:x2] = frame[y1:y2, x1:x2]\n",
    "\n",
    "    cv2.imshow(\"YOLOv8 Human Detection\", output_frame)\n",
    "    \n",
    "    \n",
    "    if cv2.waitKey(1) & 0xFF == ord('q'):          # Break loop if 'q' key is pressed\n",
    "        break\n",
    "\n",
    "\n",
    "cap.release()\n",
    "cv2.destroyAllWindows()\n"
   ]
  }
 ],
 "metadata": {
  "kernelspec": {
   "display_name": "Python 3",
   "language": "python",
   "name": "python3"
  },
  "language_info": {
   "codemirror_mode": {
    "name": "ipython",
    "version": 3
   },
   "file_extension": ".py",
   "mimetype": "text/x-python",
   "name": "python",
   "nbconvert_exporter": "python",
   "pygments_lexer": "ipython3",
   "version": "3.11.9"
  }
 },
 "nbformat": 4,
 "nbformat_minor": 2
}
